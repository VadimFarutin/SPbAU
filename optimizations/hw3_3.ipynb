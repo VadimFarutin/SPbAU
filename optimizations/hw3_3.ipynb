{
 "cells": [
  {
   "cell_type": "code",
   "execution_count": 30,
   "metadata": {
    "collapsed": true
   },
   "outputs": [],
   "source": [
    "import numpy as np"
   ]
  },
  {
   "cell_type": "code",
   "execution_count": 31,
   "metadata": {},
   "outputs": [],
   "source": [
    "import matplotlib.pyplot as plt"
   ]
  },
  {
   "cell_type": "code",
   "execution_count": 32,
   "metadata": {},
   "outputs": [],
   "source": [
    "def generate_normal_sample(a, d, n):\n",
    "    return np.random.normal(a, d, n)"
   ]
  },
  {
   "cell_type": "code",
   "execution_count": 33,
   "metadata": {},
   "outputs": [],
   "source": [
    "def polynom(a, x):\n",
    "    res = np.zeros(len(x))\n",
    "    for i in range(len(a)):\n",
    "        res *= x\n",
    "        res += a[i]\n",
    "    return res"
   ]
  },
  {
   "cell_type": "code",
   "execution_count": 34,
   "metadata": {},
   "outputs": [],
   "source": [
    "def polynomial_regression(x, y, m):\n",
    "    n = len(x)\n",
    "    X = np.empty((n, m))\n",
    "    for i in range(n):\n",
    "        x_pow = 1\n",
    "        for j in range(m):\n",
    "            X[i][j] = x_pow\n",
    "            x_pow *= x[i]\n",
    "\n",
    "    A = X.T @ X\n",
    "    B = X.T @ y\n",
    "    g = np.linalg.solve(A, B)\n",
    "    return g[::-1]"
   ]
  },
  {
   "cell_type": "code",
   "execution_count": 35,
   "metadata": {},
   "outputs": [],
   "source": [
    "def mean(a):\n",
    "    return sum(a) / len(a)"
   ]
  },
  {
   "cell_type": "code",
   "execution_count": 36,
   "metadata": {},
   "outputs": [],
   "source": [
    "from math import sqrt\n",
    "\n",
    "\n",
    "def distances(x, y, center):\n",
    "    xc, yc = center[0], center[1]\n",
    "    return list(map(lambda xiyi: \n",
    "                    sqrt((xiyi[0] - xc) ** 2 + (xiyi[1] - yc) ** 2),\n",
    "                    zip(x, y)))"
   ]
  },
  {
   "cell_type": "code",
   "execution_count": 37,
   "metadata": {},
   "outputs": [],
   "source": [
    "from scipy import optimize\n",
    "\n",
    "\n",
    "def circle_regression(x, y):\n",
    "    def distances_from_mean(center):\n",
    "        dist = distances(x, y, center)\n",
    "        dist = np.array(dist)\n",
    "        return dist - mean(dist)\n",
    "\n",
    "    start_center = np.array([0, 0])\n",
    "    estimated_center, _ = optimize.leastsq(distances_from_mean, start_center)\n",
    "    dist = distances(x, y, estimated_center)\n",
    "    R = mean(dist)\n",
    "\n",
    "    return estimated_center, R"
   ]
  },
  {
   "cell_type": "code",
   "execution_count": 38,
   "metadata": {},
   "outputs": [],
   "source": [
    "def polynomial_regression_plot(x, y1, y2):\n",
    "    fig, ax = plt.subplots()\n",
    "    ax.plot(x, y1, 'o', color='black')\n",
    "    ax.plot(x, y2, color='red')\n",
    "    plt.plot()\n",
    "    plt.show()"
   ]
  },
  {
   "cell_type": "code",
   "execution_count": 39,
   "metadata": {},
   "outputs": [],
   "source": [
    "def circle_regression_plot(x, y, center, R):\n",
    "    fig, ax = plt.subplots()\n",
    "    ax.plot(x, y, 'o', color='black')\n",
    "    circle = plt.Circle((center[0], center[1]), R, color='red', fill=False)\n",
    "    ax.add_artist(circle)\n",
    "    plt.plot()\n",
    "    plt.show()"
   ]
  },
  {
   "cell_type": "code",
   "execution_count": 40,
   "metadata": {},
   "outputs": [
    {
     "name": "stdout",
     "output_type": "stream",
     "text": [
      "[ 1.06787601  2.52441348 -5.68681873 -5.22144919]\n"
     ]
    },
    {
     "data": {
      "image/png": "[encoded data removed]",
      "text/plain": [
       "<Figure size 432x288 with 1 Axes>"
      ]
     },
     "metadata": {},
     "output_type": "display_data"
    }
   ],
   "source": [
    "n = 5\n",
    "a = [1, 2, -4, 0]\n",
    "x = list(range(-n, n + 1))\n",
    "y = polynom(a, x)\n",
    "y = np.array(y) + generate_normal_sample(0, 9, 2 * n + 1)\n",
    "g = polynomial_regression(x, y, len(a))\n",
    "\n",
    "print(g)\n",
    "polynomial_regression_plot(x, y, polynom(g, x))"
   ]
  },
  {
   "cell_type": "code",
   "execution_count": 41,
   "metadata": {},
   "outputs": [
    {
     "name": "stdout",
     "output_type": "stream",
     "text": [
      "[ 5.18218041 -3.60624769] 49.765210254843424\n"
     ]
    },
    {
     "data": {
      "image/png": "[encoded data removed]",
      "text/plain": [
       "<Figure size 432x288 with 1 Axes>"
      ]
     },
     "metadata": {},
     "output_type": "display_data"
    }
   ],
   "source": [
    "from random import randint\n",
    "\n",
    "\n",
    "n = 50\n",
    "xc, yc = (5, -4)\n",
    "R = n\n",
    "x = list(range(-n + xc, n + 1 + xc))\n",
    "y = list(map(lambda xi: \n",
    "             yc + (1 - 2 * randint(0, 1)) * sqrt(R ** 2 - (xi - xc) ** 2), \n",
    "             x))\n",
    "y = np.array(y) + generate_normal_sample(0, 4, 2 * n + 1)\n",
    "center, Rr = circle_regression(x, y)\n",
    "\n",
    "print(center, Rr)\n",
    "circle_regression_plot(x, y, center, Rr)"
   ]
  },
  {
   "cell_type": "code",
   "execution_count": null,
   "metadata": {},
   "outputs": [],
   "source": []
  }
 ],
 "metadata": {
  "kernelspec": {
   "display_name": "Python 2",
   "language": "python",
   "name": "python2"
  },
  "language_info": {
   "codemirror_mode": {
    "name": "ipython",
    "version": 2
   },
   "file_extension": ".py",
   "mimetype": "text/x-python",
   "name": "python",
   "nbconvert_exporter": "python",
   "pygments_lexer": "ipython2",
   "version": "2.7.6"
  }
 },
 "nbformat": 4,
 "nbformat_minor": 0
}
